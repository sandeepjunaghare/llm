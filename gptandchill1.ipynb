{
  "nbformat": 4,
  "nbformat_minor": 0,
  "metadata": {
    "colab": {
      "provenance": [],
      "authorship_tag": "ABX9TyMUExU0T0sOUN5uI0ktzkL4",
      "include_colab_link": true
    },
    "kernelspec": {
      "name": "python3",
      "display_name": "Python 3"
    },
    "language_info": {
      "name": "python"
    }
  },
  "cells": [
    {
      "cell_type": "markdown",
      "metadata": {
        "id": "view-in-github",
        "colab_type": "text"
      },
      "source": [
        "<a href=\"https://colab.research.google.com/github/sandeepjunaghare/llm/blob/main/gptandchill1.ipynb\" target=\"_parent\"><img src=\"https://colab.research.google.com/assets/colab-badge.svg\" alt=\"Open In Colab\"/></a>"
      ]
    },
    {
      "cell_type": "code",
      "execution_count": 1,
      "metadata": {
        "id": "pq60aG3s1yLt"
      },
      "outputs": [],
      "source": [
        "import torch\n",
        "from typing import List, Tuple\n",
        "\n",
        "class Solution:\n",
        "  def batch_loader(self, raw_dataset, context_length, batch_size):\n",
        "    torch.manual_seed(0)\n",
        "    list_of_words = raw_dataset.split()\n"
      ]
    }
  ]
}