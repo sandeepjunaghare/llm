{
  "nbformat": 4,
  "nbformat_minor": 0,
  "metadata": {
    "colab": {
      "provenance": [],
      "authorship_tag": "ABX9TyMC8nRuWbXzeNg9pMLnSGnP",
      "include_colab_link": true
    },
    "kernelspec": {
      "name": "python3",
      "display_name": "Python 3"
    },
    "language_info": {
      "name": "python"
    }
  },
  "cells": [
    {
      "cell_type": "markdown",
      "metadata": {
        "id": "view-in-github",
        "colab_type": "text"
      },
      "source": [
        "<a href=\"https://colab.research.google.com/github/sandeepjunaghare/llm/blob/main/Copy_of_gradient_descent.ipynb\" target=\"_parent\"><img src=\"https://colab.research.google.com/assets/colab-badge.svg\" alt=\"Open In Colab\"/></a>"
      ]
    },
    {
      "cell_type": "code",
      "execution_count": null,
      "metadata": {
        "colab": {
          "base_uri": "https://localhost:8080/"
        },
        "id": "szFlQP_mR5oy",
        "outputId": "c96fa38a-03fc-4c36-ecef-5b30a015db43"
      },
      "outputs": [
        {
          "output_type": "stream",
          "name": "stdout",
          "text": [
            "Input:\n",
            "iterations: 10\n",
            "learning_rate: 0.01\n",
            "curr_guess: 5\n",
            "Expression : x**2\n",
            "Derivative of expression with repsect to x : Derivative(x**2, x)\n",
            "Value of the derivative : 2*x\n",
            "derivative: 10\n",
            "current guess: 4.9\n",
            "\n",
            "\n",
            "Expression : x**2\n",
            "Derivative of expression with repsect to x : Derivative(x**2, x)\n",
            "Value of the derivative : 2*x\n",
            "derivative: 9.8\n",
            "current guess: 4.8020000000000005\n",
            "\n",
            "\n",
            "Expression : x**2\n",
            "Derivative of expression with repsect to x : Derivative(x**2, x)\n",
            "Value of the derivative : 2*x\n",
            "derivative: 9.604000000000001\n",
            "current guess: 4.70596\n",
            "\n",
            "\n",
            "Expression : x**2\n",
            "Derivative of expression with repsect to x : Derivative(x**2, x)\n",
            "Value of the derivative : 2*x\n",
            "derivative: 9.41192\n",
            "current guess: 4.6118408\n",
            "\n",
            "\n",
            "Expression : x**2\n",
            "Derivative of expression with repsect to x : Derivative(x**2, x)\n",
            "Value of the derivative : 2*x\n",
            "derivative: 9.2236816\n",
            "current guess: 4.519603984000001\n",
            "\n",
            "\n",
            "Expression : x**2\n",
            "Derivative of expression with repsect to x : Derivative(x**2, x)\n",
            "Value of the derivative : 2*x\n",
            "derivative: 9.039207968000001\n",
            "current guess: 4.429211904320001\n",
            "\n",
            "\n",
            "Expression : x**2\n",
            "Derivative of expression with repsect to x : Derivative(x**2, x)\n",
            "Value of the derivative : 2*x\n",
            "derivative: 8.858423808640001\n",
            "current guess: 4.3406276662336\n",
            "\n",
            "\n",
            "Expression : x**2\n",
            "Derivative of expression with repsect to x : Derivative(x**2, x)\n",
            "Value of the derivative : 2*x\n",
            "derivative: 8.6812553324672\n",
            "current guess: 4.253815112908928\n",
            "\n",
            "\n",
            "Expression : x**2\n",
            "Derivative of expression with repsect to x : Derivative(x**2, x)\n",
            "Value of the derivative : 2*x\n",
            "derivative: 8.507630225817856\n",
            "current guess: 4.1687388106507495\n",
            "\n",
            "\n",
            "Expression : x**2\n",
            "Derivative of expression with repsect to x : Derivative(x**2, x)\n",
            "Value of the derivative : 2*x\n",
            "derivative: 8.337477621301499\n",
            "current guess: 4.085364034437735\n",
            "\n",
            "\n",
            "\n",
            "\n",
            "Output: 4.08536\n"
          ]
        }
      ],
      "source": [
        "from sympy import *\n",
        "\n",
        "def gradient_descent_func(iterations, learning_rate, curr_guess):\n",
        "\n",
        "  if (iterations >= 0) and (learning_rate > 0 and learning_rate < 1) and (curr_guess != 0):\n",
        "    print(\"iterations: {}\".format(iterations))\n",
        "    print(\"learning_rate: {}\".format(learning_rate))\n",
        "    print(\"curr_guess: {}\".format(curr_guess))\n",
        "  else:\n",
        "    print(\"incorrect entry\")\n",
        "    return -1\n",
        "\n",
        "  for count in range(iterations):\n",
        "    # calculate derivative\n",
        "    x, y = symbols('x y')\n",
        "\n",
        "    expr = x**2\n",
        "    print(\"Expression : {}\".format(expr))\n",
        "\n",
        "    # use sympy.Derivaties(expr, x)\n",
        "    expr_diff = Derivative(expr, x)\n",
        "    print(\"Derivative of expression with repsect to x : {}\".format(expr_diff))\n",
        "    print(\"Value of the derivative : {}\".format(expr_diff.doit()))\n",
        "\n",
        "    f_derivative = lambdify(x, expr_diff.doit())\n",
        "    derivative = f_derivative(curr_guess)\n",
        "    print (\"derivative: {}\".format(derivative))\n",
        "\n",
        "    curr_guess  = curr_guess - learning_rate * derivative\n",
        "    print(\"current guess: {}\".format(curr_guess))\n",
        "    print(\"\\n\")\n",
        "\n",
        "  return curr_guess\n",
        "\n",
        "\n",
        "iterations = 10\n",
        "curr_guess = 5\n",
        "learning_rate = 0.01\n",
        "\n",
        "print(\"Input:\")\n",
        "\n",
        "result = round(gradient_descent_func(iterations, learning_rate, curr_guess), 5)\n",
        "print(\"\\n\")\n",
        "print(\"Output: {}\".format(result))\n",
        "\n"
      ]
    },
    {
      "cell_type": "code",
      "source": [],
      "metadata": {
        "id": "_CbRv0-D_cWX"
      },
      "execution_count": null,
      "outputs": []
    }
  ]
}