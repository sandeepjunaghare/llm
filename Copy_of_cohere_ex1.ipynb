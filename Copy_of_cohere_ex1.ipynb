{
  "nbformat": 4,
  "nbformat_minor": 0,
  "metadata": {
    "colab": {
      "provenance": [],
      "authorship_tag": "ABX9TyM17iUrzomF121znibxrnjq",
      "include_colab_link": true
    },
    "kernelspec": {
      "name": "python3",
      "display_name": "Python 3"
    },
    "language_info": {
      "name": "python"
    }
  },
  "cells": [
    {
      "cell_type": "markdown",
      "metadata": {
        "id": "view-in-github",
        "colab_type": "text"
      },
      "source": [
        "<a href=\"https://colab.research.google.com/github/sandeepjunaghare/llm/blob/main/Copy_of_cohere_ex1.ipynb\" target=\"_parent\"><img src=\"https://colab.research.google.com/assets/colab-badge.svg\" alt=\"Open In Colab\"/></a>"
      ]
    },
    {
      "cell_type": "code",
      "execution_count": null,
      "metadata": {
        "id": "-A-QdIjdna04"
      },
      "outputs": [],
      "source": [
        "!pip install openai tiktoken cohere altair > /dev/null"
      ]
    },
    {
      "cell_type": "code",
      "source": [
        "import cohere\n",
        "import pandas as pd\n",
        "import numpy as np\n",
        "import seaborn as sns\n",
        "import altair as alt\n",
        "\n",
        "api_key = 'CPGMrh5QqBKJUO9XapUxa74OSNBYIvRf07X8AOJk'\n",
        "co = cohere.Client(api_key)"
      ],
      "metadata": {
        "id": "qD8OYxOMoF-G"
      },
      "execution_count": null,
      "outputs": []
    },
    {
      "cell_type": "code",
      "source": [
        "sentence1 = np.array(co.embed([\"I like to be in my house\"]).embeddings)\n",
        "sentence2 = np.array(co.embed([\"I enjoy staying at home\"]).embeddings)\n",
        "sentence3 = np.array(co.embed([\" the isotop xxx decays to yyy\"]).embeddings)\n"
      ],
      "metadata": {
        "id": "W-Ydb0tun_nR"
      },
      "execution_count": null,
      "outputs": []
    },
    {
      "cell_type": "code",
      "source": [
        "print(\"embeddings for sentence1\",sentence1)\n",
        "print(\"embeddings for sentence2\",sentence2)\n",
        "print(\"embeddings for sentence3\",sentence3)\n"
      ],
      "metadata": {
        "colab": {
          "base_uri": "https://localhost:8080/"
        },
        "id": "q6Tu8VJZupZV",
        "outputId": "3f3faf54-47a9-4134-89da-974eac201a01"
      },
      "execution_count": null,
      "outputs": [
        {
          "output_type": "stream",
          "name": "stdout",
          "text": [
            "embeddings for sentence1 [[-1.3671875  -0.53808594  0.05929565 ...  0.6064453  -0.28979492\n",
            "   0.68408203]]\n",
            "embeddings for sentence2 [[-1.0068359   1.84375     2.2558594  ...  0.20471191 -1.1230469\n",
            "   0.72021484]]\n",
            "embeddings for sentence3 [[-0.3876953  -0.8222656  -1.4824219  ... -0.7392578   0.6347656\n",
            "  -0.48046875]]\n"
          ]
        }
      ]
    },
    {
      "cell_type": "markdown",
      "source": [
        "# New Section"
      ],
      "metadata": {
        "id": "RkZZLTY8vhtd"
      }
    },
    {
      "cell_type": "code",
      "source": [
        "from numpy import dot\n",
        "print(\"print similarity between sentence 1 and sentence 2\", dot(sentence1[0], sentence2[0]) )\n",
        "print(\"print similarity between sentence 1 and sentence 3\", dot(sentence1[0], sentence3[0]) )\n",
        "print(\"print similarity between sentence 2 and sentence 3\", dot(sentence2[0], sentence3[0]) )\n",
        "\n"
      ],
      "metadata": {
        "id": "KG-EjqqUvAhr",
        "colab": {
          "base_uri": "https://localhost:8080/"
        },
        "outputId": "fadb3fac-38ec-4549-acf8-a9b8fc8aa9ee"
      },
      "execution_count": null,
      "outputs": [
        {
          "output_type": "stream",
          "name": "stdout",
          "text": [
            "print similarity between sentence 1 and sentence 2 6982.159696952578\n",
            "print similarity between sentence 1 and sentence 3 53.756449225537786\n",
            "print similarity between sentence 2 and sentence 3 136.6005987958573\n"
          ]
        }
      ]
    },
    {
      "cell_type": "code",
      "source": [
        "print(\"print similarity between sentence 1 and senence1\", np.dot(sentence1[0], sentence2[0]))\n",
        "print(\"print similarity between sentence 2 and senence 2\", np.dot(sentence2[0], sentence2[0]))\n",
        "print(\"print similarity between sentence 3 and senence 3\", np.dot(sentence3[0], sentence3[0]))\n"
      ],
      "metadata": {
        "colab": {
          "base_uri": "https://localhost:8080/"
        },
        "id": "1PLwCp-FEtlj",
        "outputId": "bea55388-418e-4517-f1e3-2a2ebae5c0b2"
      },
      "execution_count": null,
      "outputs": [
        {
          "output_type": "stream",
          "name": "stdout",
          "text": [
            "print similarity between sentence 1 and senence1 6982.159696952578\n",
            "print similarity between sentence 2 and senence 2 8750.065860697112\n",
            "print similarity between sentence 3 and senence 3 6963.20484930115\n"
          ]
        }
      ]
    },
    {
      "cell_type": "code",
      "source": [
        "from  sklearn.metrics.pairwise import cosine_similarity\n",
        "print (\"print cosine similarity between sentence 1 and senence1\", cosine_similarity(sentence1,sentence1)[0][0])\n",
        "print (\"print cosine similarity between sentence 2 and senence2\", cosine_similarity(sentence2,sentence2)[0][0])\n",
        "print (\"print cosine similarity between sentence 3 and senence3\", cosine_similarity(sentence3,sentence3)[0][0])\n"
      ],
      "metadata": {
        "colab": {
          "base_uri": "https://localhost:8080/"
        },
        "id": "oBQ2KmAjF1mc",
        "outputId": "69da0c07-f31a-4095-9c91-204ad735cbf7"
      },
      "execution_count": null,
      "outputs": [
        {
          "output_type": "stream",
          "name": "stdout",
          "text": [
            "print cosine similarity between sentence 1 and senence1 1.000000000000001\n",
            "print cosine similarity between sentence 2 and senence2 0.9999999999999999\n",
            "print cosine similarity between sentence 3 and senence3 0.9999999999999988\n"
          ]
        }
      ]
    },
    {
      "cell_type": "code",
      "source": [
        "embeddings = [sentence1,sentence2,sentence3]\n",
        "dot_product_similarities = [[cosine_similarity(embeddings[i],embeddings[j])[0][0] for i in range(len(embeddings))] for j in range(len(embeddings))]\n",
        "ax = sns.heatmap(dot_product_similarities, vmin=0,vmax=1,\n",
        "                 linewidths=5,linecolor=\"grey\",\n",
        "                 xticklabels=[\"I like to be in my house\", \"I enjoy staying at home\",\" the isotop xxx decays to yyy\"  ],\n",
        "                 yticklabels=[ \"I like to be in my house\", \"I enjoy staying at home\",\" the isotop xxx decays to yyy\" ])"
      ],
      "metadata": {
        "id": "w0lY8HUBILO6",
        "colab": {
          "base_uri": "https://localhost:8080/",
          "height": 625
        },
        "outputId": "5e30eba0-d271-40f5-b5d6-bda8d0ac89eb"
      },
      "execution_count": null,
      "outputs": [
        {
          "output_type": "display_data",
          "data": {
            "text/plain": [
              "<Figure size 640x480 with 2 Axes>"
            ],
            "image/png": "[encoded data removed]"
          },
          "metadata": {}
        }
      ]
    }
  ]
}